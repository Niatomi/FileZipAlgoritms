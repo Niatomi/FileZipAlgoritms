{
 "cells": [
  {
   "cell_type": "code",
   "execution_count": 12,
   "metadata": {},
   "outputs": [],
   "source": [
    "import math\n",
    "from typing import List\n",
    "import os"
   ]
  },
  {
   "cell_type": "code",
   "execution_count": 7,
   "metadata": {},
   "outputs": [],
   "source": [
    "FILE_PATH = \"C:\\\\Desktop\\\\FileZipAlgoritms\\\\test_resources\\\\test_file.txt\"\n",
    "SHENON_FILES_PATH = 'C:\\\\Desktop\\\\FileZipAlgoritms\\\\test_resources\\\\shenon'"
   ]
  },
  {
   "cell_type": "code",
   "execution_count": 8,
   "metadata": {},
   "outputs": [],
   "source": [
    "def hartley_algorithm(byte_array: List[bytes]):\n",
    "    return math.log2(len(byte_array))"
   ]
  },
  {
   "cell_type": "code",
   "execution_count": 9,
   "metadata": {},
   "outputs": [
    {
     "data": {
      "text/plain": [
       "9.567956075415466"
      ]
     },
     "execution_count": 9,
     "metadata": {},
     "output_type": "execute_result"
    }
   ],
   "source": [
    "file_bytes = None\n",
    "with open(FILE_PATH, 'rb') as f:\n",
    "    file_bytes = f.read()\n",
    "hartley_algorithm(file_bytes)"
   ]
  },
  {
   "cell_type": "code",
   "execution_count": 10,
   "metadata": {},
   "outputs": [],
   "source": [
    "def shenon_algorithm(byte_array: List[bytes]):\n",
    "    sum = 0\n",
    "    for _ in range(len(byte_array)):\n",
    "        sum += len(byte_array) * math.log2(1/len(byte_array))\n",
    "    return sum * (-1)"
   ]
  },
  {
   "cell_type": "code",
   "execution_count": 14,
   "metadata": {},
   "outputs": [
    {
     "data": {
      "text/plain": [
       "93.05865002596163"
      ]
     },
     "execution_count": 14,
     "metadata": {},
     "output_type": "execute_result"
    }
   ],
   "source": [
    "files_bytes = []\n",
    "for file in os.listdir(SHENON_FILES_PATH):\n",
    "    with open(f'{SHENON_FILES_PATH}/{file}', 'rb') as f:\n",
    "        files_bytes.append(f.read())\n",
    "        \n",
    "shenon_algorithm(files_bytes)"
   ]
  },
  {
   "cell_type": "code",
   "execution_count": null,
   "metadata": {},
   "outputs": [],
   "source": []
  }
 ],
 "metadata": {
  "kernelspec": {
   "display_name": "py36",
   "language": "python",
   "name": "python3"
  },
  "language_info": {
   "codemirror_mode": {
    "name": "ipython",
    "version": 3
   },
   "file_extension": ".py",
   "mimetype": "text/x-python",
   "name": "python",
   "nbconvert_exporter": "python",
   "pygments_lexer": "ipython3",
   "version": "3.7.16"
  }
 },
 "nbformat": 4,
 "nbformat_minor": 2
}
