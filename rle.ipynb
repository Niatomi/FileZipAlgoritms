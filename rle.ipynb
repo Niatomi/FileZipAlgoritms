{
 "cells": [
  {
   "cell_type": "code",
   "execution_count": 137,
   "metadata": {},
   "outputs": [],
   "source": [
    "import math\n",
    "from typing import List\n",
    "import os"
   ]
  },
  {
   "cell_type": "code",
   "execution_count": 138,
   "metadata": {},
   "outputs": [],
   "source": [
    "FILE_PATH = \"C:\\\\Desktop\\\\FileZipAlgoritms\\\\test_resources\\\\test_file.txt\"\n",
    "OUT_FILE = \"C:\\\\Desktop\\\\FileZipAlgoritms\\\\test_resources\\\\out\\\\test_file.rlv\"\n",
    "OUT_FILE_DECODED = \"C:\\\\Desktop\\\\FileZipAlgoritms\\\\test_resources\\\\out\\\\test_file.txt\"\n"
   ]
  },
  {
   "cell_type": "code",
   "execution_count": 139,
   "metadata": {},
   "outputs": [],
   "source": [
    "def encode_rle_file(input_path, out_path) -> bytearray:\n",
    "    file_bytes = None\n",
    "    with open(input_path, 'rb') as f:\n",
    "        file_bytes = f.read()\n",
    "\n",
    "    series_memo = None\n",
    "    series_count = 0\n",
    "    out_bytes = bytearray()\n",
    "    for b in file_bytes:\n",
    "        if series_memo is not None:\n",
    "            if series_memo != b:\n",
    "                out_bytes.append(series_memo)\n",
    "                out_bytes.append(series_count)\n",
    "                series_memo = b\n",
    "                series_count = 1\n",
    "            else:\n",
    "                series_count += 1\n",
    "        else:\n",
    "            series_memo = b\n",
    "            series_count = 1\n",
    "    out_bytes.append(series_memo)\n",
    "    out_bytes.append(series_count)\n",
    "    with open(out_path, 'wb') as f:\n",
    "        f.write(out_bytes)\n",
    "    return out_bytes"
   ]
  },
  {
   "cell_type": "code",
   "execution_count": 140,
   "metadata": {},
   "outputs": [],
   "source": [
    "def decode_file(path, out) -> None:\n",
    "    file_bytes = None\n",
    "    with open(path, 'rb') as f:\n",
    "        file_bytes = f.read()\n",
    "    \n",
    "    out_bytes = bytearray()\n",
    "    for i in range(0, len(file_bytes) - 1, 2):\n",
    "        for _ in range(file_bytes[i + 1]):\n",
    "            out_bytes.append(file_bytes[i])\n",
    "    \n",
    "    with open(out, 'wb') as f:\n",
    "        f.write(out_bytes)"
   ]
  },
  {
   "cell_type": "code",
   "execution_count": 141,
   "metadata": {},
   "outputs": [
    {
     "name": "stdout",
     "output_type": "stream",
     "text": [
      "Размер оригинального:  3848\n",
      "Размер закодированного: 7578\n",
      "Cжатие:  196.93347193347194\n"
     ]
    }
   ],
   "source": [
    "encode_rle_file(FILE_PATH, OUT_FILE)\n",
    "decode_file(OUT_FILE, OUT_FILE_DECODED)\n",
    "\n",
    "\n",
    "orig_size = os.stat(FILE_PATH).st_size\n",
    "out_size = os.stat(OUT_FILE).st_size\n",
    "\n",
    "\n",
    "\n",
    "print('Размер оригинального: ', orig_size)\n",
    "print('Размер закодированного:', out_size)\n",
    "print('Cжатие: ', (out_size * 100) / orig_size)"
   ]
  },
  {
   "cell_type": "code",
   "execution_count": null,
   "metadata": {},
   "outputs": [],
   "source": []
  }
 ],
 "metadata": {
  "kernelspec": {
   "display_name": "py37",
   "language": "python",
   "name": "python3"
  },
  "language_info": {
   "name": "python",
   "version": "3.7.16"
  }
 },
 "nbformat": 4,
 "nbformat_minor": 2
}
